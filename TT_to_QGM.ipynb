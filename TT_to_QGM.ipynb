{
 "cells": [
  {
   "cell_type": "code",
   "execution_count": null,
   "metadata": {},
   "outputs": [],
   "source": [
    "# About the author\n",
    "# Bhawesh Mishra\n",
    "# 3rd year Undergraduate student at VIT, Vellore\n",
    "# LinkedIn: https://www.linkedin.com/in/bhawesh-mishra-410398210/\n",
    "# GitHub: https://github.com/BhaweshMishra"
   ]
  },
  {
   "cell_type": "code",
   "execution_count": 1,
   "metadata": {},
   "outputs": [],
   "source": [
    "# Importing the modules\n",
    "\n",
    "import numpy as np"
   ]
  },
  {
   "cell_type": "code",
   "execution_count": 2,
   "metadata": {},
   "outputs": [],
   "source": [
    "# Defining the function\n",
    "def truth_table_to_quantum_gate_matrix(fx):\n",
    "      input_bits = len(list(fx.keys())[0])\n",
    "      output_bits = len(fx[list(fx.keys())[0]])\n",
    "      formated_string = '{:0'+str(input_bits+output_bits)+'b}'    #formatting for input bits\n",
    "      formated_string_out = '{:0'+str(output_bits)+'b}'           #formatting for ouput bits  \n",
    "      fx1 = {}                                                    #Dictionary to store new values including redundant qubits\n",
    "      for i in range(0,2**(input_bits+output_bits)):\n",
    "            inputstr = formated_string.format(i)\n",
    "            outputstr1 = inputstr[0:input_bits]\n",
    "            fxout = int(fx[inputstr[0:input_bits]],2)\n",
    "            \n",
    "            toxor = int(inputstr[input_bits:],2)\n",
    "            xored = fxout^toxor\n",
    "            xored_formated = formated_string_out.format(xored)\n",
    "            outputstr = outputstr1 + xored_formated\n",
    "            fx1[inputstr]=outputstr\n",
    "\n",
    "\n",
    "      mat = np.zeros((2**(input_bits+output_bits),2**(input_bits+output_bits)))\n",
    "      for i in fx1:\n",
    "            matindex = int(i,2)\n",
    "            matindexout = int(fx1[i],2)\n",
    "            mat[matindex][matindexout] = 1\n",
    "\n",
    "\n",
    "      mat = mat.transpose()\n",
    "      return mat\n",
    "\n"
   ]
  },
  {
   "cell_type": "code",
   "execution_count": 3,
   "metadata": {},
   "outputs": [],
   "source": [
    "# The truth table for the XOR gate. The truth table is implemented using strings in a dictionary.\n",
    "# The keys are the inputs to the circuit and the corresponding values are the output values\n",
    "\n",
    "xor = {'00':'0',\n",
    "       '01':'1',\n",
    "       '10':'1',\n",
    "       '11':'0'}\n",
    "\n",
    "# Generating the matrix\n",
    "xor_mat = truth_table_to_quantum_gate_matrix(xor)"
   ]
  },
  {
   "cell_type": "code",
   "execution_count": 4,
   "metadata": {},
   "outputs": [
    {
     "data": {
      "text/plain": [
       "array([[1., 0., 0., 0., 0., 0., 0., 0.],\n",
       "       [0., 1., 0., 0., 0., 0., 0., 0.],\n",
       "       [0., 0., 0., 1., 0., 0., 0., 0.],\n",
       "       [0., 0., 1., 0., 0., 0., 0., 0.],\n",
       "       [0., 0., 0., 0., 0., 1., 0., 0.],\n",
       "       [0., 0., 0., 0., 1., 0., 0., 0.],\n",
       "       [0., 0., 0., 0., 0., 0., 1., 0.],\n",
       "       [0., 0., 0., 0., 0., 0., 0., 1.]])"
      ]
     },
     "execution_count": 4,
     "metadata": {},
     "output_type": "execute_result"
    }
   ],
   "source": [
    "xor_mat"
   ]
  },
  {
   "cell_type": "code",
   "execution_count": null,
   "metadata": {},
   "outputs": [],
   "source": []
  }
 ],
 "metadata": {
  "kernelspec": {
   "display_name": "Python 3",
   "language": "python",
   "name": "python3"
  },
  "language_info": {
   "codemirror_mode": {
    "name": "ipython",
    "version": 3
   },
   "file_extension": ".py",
   "mimetype": "text/x-python",
   "name": "python",
   "nbconvert_exporter": "python",
   "pygments_lexer": "ipython3",
   "version": "3.9.6"
  },
  "orig_nbformat": 4
 },
 "nbformat": 4,
 "nbformat_minor": 2
}
